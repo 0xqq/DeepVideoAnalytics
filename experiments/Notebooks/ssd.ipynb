{
 "cells": [
  {
   "cell_type": "code",
   "execution_count": 1,
   "metadata": {
    "collapsed": true
   },
   "outputs": [],
   "source": [
    "import sys\n",
    "sys.path.append('../../')"
   ]
  },
  {
   "cell_type": "code",
   "execution_count": 2,
   "metadata": {
    "collapsed": true
   },
   "outputs": [],
   "source": [
    "from dvalib import detector"
   ]
  },
  {
   "cell_type": "code",
   "execution_count": 3,
   "metadata": {
    "collapsed": true
   },
   "outputs": [],
   "source": [
    "test = detector.SSDetector()"
   ]
  },
  {
   "cell_type": "code",
   "execution_count": 4,
   "metadata": {
    "collapsed": false
   },
   "outputs": [
    {
     "name": "stderr",
     "output_type": "stream",
     "text": [
      "WARNING:root:Loading the SSD network\n",
      "WARNING:root:Loading finished\n"
     ]
    },
    {
     "name": "stdout",
     "output_type": "stream",
     "text": [
      "(array([12, 15, 13, 15]), array([ 0.99403548,  0.99307197,  0.98673952,  0.56449276], dtype=float32), array([[ 0.61961591,  0.10788482,  0.82328844,  0.31712142],\n",
      "       [ 0.24443468,  0.28744316,  0.88289881,  0.41950208],\n",
      "       [ 0.32285529,  0.62979752,  0.81007868,  0.94482535],\n",
      "       [ 0.23415242,  0.34399933,  0.31525385,  0.39029181]], dtype=float32))\n"
     ]
    }
   ],
   "source": [
    "print test.detect('/Users/aub3/Dropbox/DeepVideoAnalytics/experiments/Notebooks/person.jpg')"
   ]
  }
 ],
 "metadata": {
  "kernelspec": {
   "display_name": "Python 2",
   "language": "python",
   "name": "python2"
  },
  "language_info": {
   "codemirror_mode": {
    "name": "ipython",
    "version": 2
   },
   "file_extension": ".py",
   "mimetype": "text/x-python",
   "name": "python",
   "nbconvert_exporter": "python",
   "pygments_lexer": "ipython2",
   "version": "2.7.10"
  }
 },
 "nbformat": 4,
 "nbformat_minor": 1
}
