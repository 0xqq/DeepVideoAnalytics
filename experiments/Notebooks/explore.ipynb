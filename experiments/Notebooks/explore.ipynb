{
 "cells": [
  {
   "cell_type": "code",
   "execution_count": 2,
   "metadata": {
    "collapsed": true
   },
   "outputs": [],
   "source": [
    "import sys"
   ]
  },
  {
   "cell_type": "markdown",
   "metadata": {},
   "source": [
    "### Explore dvalib which implements operations to perform indexing and detection"
   ]
  },
  {
   "cell_type": "code",
   "execution_count": null,
   "metadata": {
    "collapsed": true
   },
   "outputs": [],
   "source": [
    "from dvalib import indexer\n",
    "temp = indexer.INDEXERS['inception'].apply('person.jpg')\n",
    "temp2 = indexer.INDEXERS['alex'].apply('person.jpg')"
   ]
  },
  {
   "cell_type": "markdown",
   "metadata": {},
   "source": [
    "## Following steps requires dva django settings.py to be configured with DB, RabbitMQ"
   ]
  },
  {
   "cell_type": "code",
   "execution_count": 10,
   "metadata": {
    "collapsed": false
   },
   "outputs": [],
   "source": [
    "sys.path.append(\"../../\")\n",
    "import django,os,glob\n",
    "os.environ.setdefault(\"DJANGO_SETTINGS_MODULE\", \"dva.settings\")\n",
    "django.setup()"
   ]
  },
  {
   "cell_type": "markdown",
   "metadata": {},
   "source": [
    "## Extract frames"
   ]
  },
  {
   "cell_type": "code",
   "execution_count": null,
   "metadata": {
    "collapsed": false
   },
   "outputs": [
    {
     "name": "stderr",
     "output_type": "stream",
     "text": [
      "WARNING:root:skipping /Users/aub3/media//2/frames/__MACOSX \n",
      "WARNING:root:skipping /Users/aub3/media//2/frames/__MACOSX/exampledataset \n",
      "WARNING:root:skipping /Users/aub3/media//2/frames/__MACOSX/exampledataset/labels_as_folder_names \n",
      "WARNING:root:skipping /Users/aub3/media//2/frames/__MACOSX/exampledataset/labels_as_folder_names/animals \n",
      "WARNING:root:skipping /Users/aub3/media//2/frames/__MACOSX/exampledataset/labels_as_folder_names/animals/eagle \n",
      "WARNING:root:skipping /Users/aub3/media//2/frames/__MACOSX/exampledataset/labels_as_folder_names/animals/human \n",
      "WARNING:root:skipping /Users/aub3/media//2/frames/exampledataset/.DS_Store not a jpeg file\n",
      "WARNING:root:skipping /Users/aub3/media//2/frames/exampledataset/labels_as_folder_names/.DS_Store not a jpeg file\n",
      "WARNING:root:skipping /Users/aub3/media//2/frames/exampledataset/labels_as_folder_names/animals/.DS_Store not a jpeg file\n"
     ]
    }
   ],
   "source": [
    "from django.core.files.uploadedfile import SimpleUploadedFile\n",
    "from dvaapp.views import handle_uploaded_file, handle_youtube_video\n",
    "from dvaapp.models import Video\n",
    "from dvaapp.tasks import extract_frames, perform_indexing, perform_detection\n",
    "for fname in glob.glob('../../tests/ci/*.mp4'):\n",
    "    name = fname.split('/')[-1].split('.')[0]\n",
    "    f = SimpleUploadedFile(fname, file(fname).read(), content_type=\"video/mp4\")\n",
    "    handle_uploaded_file(f, name, False)\n",
    "for fname in glob.glob('../../tests/*.zip'):\n",
    "    name = fname.split('/')[-1].split('.')[0]\n",
    "    f = SimpleUploadedFile(fname, file(fname).read(), content_type=\"application/zip\")\n",
    "    handle_uploaded_file(f, name)\n",
    "handle_youtube_video('tomorrow never dies', 'https://www.youtube.com/watch?v=gYtz5sw98Bc')\n",
    "for v in Video.objects.all():\n",
    "    extract_frames(v.pk)\n",
    "    perform_indexing(v.pk)\n",
    "    perform_detection(v.pk)"
   ]
  },
  {
   "cell_type": "markdown",
   "metadata": {},
   "source": [
    "##  Query data stored in database via Django ORM"
   ]
  },
  {
   "cell_type": "code",
   "execution_count": 5,
   "metadata": {
    "collapsed": false,
    "scrolled": false
   },
   "outputs": [],
   "source": [
    "from dvaapp.models import Detection,Video\n",
    "for v in Video.objects.all():\n",
    "    print v.name\n",
    "    break\n",
    "for d in Detection.objects.all():\n",
    "    print d.object_name,d.x,d.y,d.h,d.w,d.confidence\n",
    "    break"
   ]
  },
  {
   "cell_type": "code",
   "execution_count": null,
   "metadata": {
    "collapsed": false
   },
   "outputs": [],
   "source": [
    "from dvalib import pyscenecustom\n",
    "save_image_prefix = \"../../tests/\"\n",
    "manager = pyscenecustom.manager.SceneManager(save_image_prefix=save_image_prefix)\n",
    "path = \"../../tests/Goldeneye.mp4\"\n",
    "pyscenecustom.detect_scenes_file(path,manager)"
   ]
  }
 ],
 "metadata": {
  "kernelspec": {
   "display_name": "Python 2",
   "language": "python",
   "name": "python2"
  },
  "language_info": {
   "codemirror_mode": {
    "name": "ipython",
    "version": 2
   },
   "file_extension": ".py",
   "mimetype": "text/x-python",
   "name": "python",
   "nbconvert_exporter": "python",
   "pygments_lexer": "ipython2",
   "version": "2.7.10"
  }
 },
 "nbformat": 4,
 "nbformat_minor": 1
}
