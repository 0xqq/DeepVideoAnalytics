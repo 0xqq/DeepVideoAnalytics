{
 "cells": [
  {
   "cell_type": "code",
   "execution_count": 1,
   "metadata": {
    "collapsed": true
   },
   "outputs": [],
   "source": [
    "import sys\n",
    "sys.path.append(\"../../\")"
   ]
  },
  {
   "cell_type": "code",
   "execution_count": 2,
   "metadata": {
    "collapsed": true
   },
   "outputs": [],
   "source": [
    "from dvalib import indexer"
   ]
  },
  {
   "cell_type": "code",
   "execution_count": 3,
   "metadata": {
    "collapsed": true
   },
   "outputs": [],
   "source": [
    "facenet = indexer.FacenetIndexer()"
   ]
  },
  {
   "cell_type": "code",
   "execution_count": 4,
   "metadata": {
    "collapsed": false
   },
   "outputs": [
    {
     "name": "stderr",
     "output_type": "stream",
     "text": [
      "WARNING:root:Loading the network facenet\n"
     ]
    }
   ],
   "source": [
    "temp = facenet.apply('person.jpg')"
   ]
  },
  {
   "cell_type": "code",
   "execution_count": 5,
   "metadata": {
    "collapsed": false
   },
   "outputs": [
    {
     "name": "stdout",
     "output_type": "stream",
     "text": [
      "(1, 128)\n"
     ]
    }
   ],
   "source": [
    "print temp.shape"
   ]
  },
  {
   "cell_type": "code",
   "execution_count": 7,
   "metadata": {
    "collapsed": false
   },
   "outputs": [],
   "source": [
    "temp2 = facenet.apply('/Users/aub3/media/queries/2.jpg')"
   ]
  },
  {
   "cell_type": "code",
   "execution_count": 8,
   "metadata": {
    "collapsed": false
   },
   "outputs": [
    {
     "name": "stdout",
     "output_type": "stream",
     "text": [
      "(1, 128)\n"
     ]
    }
   ],
   "source": [
    "print temp2.shape"
   ]
  },
  {
   "cell_type": "code",
   "execution_count": 12,
   "metadata": {
    "collapsed": false
   },
   "outputs": [
    {
     "name": "stdout",
     "output_type": "stream",
     "text": [
      "[{'video_primary_key': '15', 'dist': 0.9274336201371991, 'algo': 'facenet', 'rank': 0, 'detection_primary_key': '996'}, {'video_primary_key': '15', 'dist': 0.98987812851612511, 'algo': 'facenet', 'rank': 1, 'detection_primary_key': '1019'}, {'video_primary_key': '15', 'dist': 0.99364257983185711, 'algo': 'facenet', 'rank': 2, 'detection_primary_key': '1011'}, {'video_primary_key': '15', 'dist': 1.0401434574534354, 'algo': 'facenet', 'rank': 3, 'detection_primary_key': '866'}, {'video_primary_key': '15', 'dist': 1.0606187054368317, 'algo': 'facenet', 'rank': 4, 'detection_primary_key': '927'}, {'video_primary_key': '15', 'dist': 1.0906083161621649, 'algo': 'facenet', 'rank': 5, 'detection_primary_key': '910'}, {'video_primary_key': '15', 'dist': 1.0957562003569929, 'algo': 'facenet', 'rank': 6, 'detection_primary_key': '884'}, {'video_primary_key': '15', 'dist': 1.1028933201787072, 'algo': 'facenet', 'rank': 7, 'detection_primary_key': '979'}, {'video_primary_key': '15', 'dist': 1.1095055789343256, 'algo': 'facenet', 'rank': 8, 'detection_primary_key': '852'}, {'video_primary_key': '15', 'dist': 1.1103203527827576, 'algo': 'facenet', 'rank': 9, 'detection_primary_key': '905'}, {'video_primary_key': '15', 'dist': 1.1126729773218522, 'algo': 'facenet', 'rank': 10, 'detection_primary_key': '952'}, {'video_primary_key': '15', 'dist': 1.1148892314823904, 'algo': 'facenet', 'rank': 11, 'detection_primary_key': '907'}]\n"
     ]
    }
   ],
   "source": [
    "print facenet.nearest('/Users/aub3/media/queries/2.jpg')"
   ]
  },
  {
   "cell_type": "code",
   "execution_count": 11,
   "metadata": {
    "collapsed": false
   },
   "outputs": [
    {
     "data": {
      "text/plain": [
       "(184, 128)"
      ]
     },
     "execution_count": 11,
     "metadata": {},
     "output_type": "execute_result"
    }
   ],
   "source": []
  },
  {
   "cell_type": "markdown",
   "metadata": {},
   "source": [
    "### Explore dvalib which implements operations to perform indexing and detection"
   ]
  },
  {
   "cell_type": "code",
   "execution_count": null,
   "metadata": {
    "collapsed": true
   },
   "outputs": [],
   "source": [
    "from dvalib import indexer\n",
    "temp = indexer.INDEXERS['inception'].apply('person.jpg')\n",
    "temp2 = indexer.INDEXERS['alex'].apply('person.jpg')"
   ]
  },
  {
   "cell_type": "markdown",
   "metadata": {},
   "source": [
    "## Following steps requires dva django settings.py to be configured with DB, RabbitMQ"
   ]
  },
  {
   "cell_type": "code",
   "execution_count": null,
   "metadata": {
    "collapsed": false
   },
   "outputs": [],
   "source": [
    "import django,os,glob\n",
    "os.environ.setdefault(\"DJANGO_SETTINGS_MODULE\", \"dva.settings\")\n",
    "django.setup()"
   ]
  },
  {
   "cell_type": "markdown",
   "metadata": {},
   "source": [
    "## Extract frames"
   ]
  },
  {
   "cell_type": "code",
   "execution_count": null,
   "metadata": {
    "collapsed": false
   },
   "outputs": [],
   "source": [
    "from django.core.files.uploadedfile import SimpleUploadedFile\n",
    "from dvaapp.views import handle_uploaded_file, handle_youtube_video\n",
    "from dvaapp.models import Video\n",
    "from dvaapp.tasks import extract_frames, perform_indexing, perform_detection\n",
    "for fname in glob.glob('../../tests/ci/*.mp4'):\n",
    "    name = fname.split('/')[-1].split('.')[0]\n",
    "    f = SimpleUploadedFile(fname, file(fname).read(), content_type=\"video/mp4\")\n",
    "    handle_uploaded_file(f, name, False)\n",
    "for fname in glob.glob('../../tests/*.zip'):\n",
    "    name = fname.split('/')[-1].split('.')[0]\n",
    "    f = SimpleUploadedFile(fname, file(fname).read(), content_type=\"application/zip\")\n",
    "    handle_uploaded_file(f, name)\n",
    "handle_youtube_video('tomorrow never dies', 'https://www.youtube.com/watch?v=gYtz5sw98Bc')\n",
    "for v in Video.objects.all():\n",
    "    extract_frames(v.pk)\n",
    "    perform_indexing(v.pk)\n",
    "    perform_detection(v.pk)"
   ]
  },
  {
   "cell_type": "markdown",
   "metadata": {},
   "source": [
    "##  Query data stored in database via Django ORM"
   ]
  },
  {
   "cell_type": "code",
   "execution_count": null,
   "metadata": {
    "collapsed": false,
    "scrolled": false
   },
   "outputs": [],
   "source": [
    "from dvaapp.models import Detection,Video\n",
    "for v in Video.objects.all():\n",
    "    print v.name\n",
    "    break\n",
    "for d in Detection.objects.all():\n",
    "    print d.object_name,d.x,d.y,d.h,d.w,d.confidence\n",
    "    break"
   ]
  },
  {
   "cell_type": "code",
   "execution_count": null,
   "metadata": {
    "collapsed": false
   },
   "outputs": [],
   "source": [
    "from dvalib import pyscenecustom\n",
    "save_image_prefix = \"../../tests/\"\n",
    "manager = pyscenecustom.manager.SceneManager(save_image_prefix=save_image_prefix)\n",
    "path = \"../../tests/Goldeneye.mp4\"\n",
    "pyscenecustom.detect_scenes_file(path,manager)"
   ]
  }
 ],
 "metadata": {
  "kernelspec": {
   "display_name": "Python 2",
   "language": "python",
   "name": "python2"
  },
  "language_info": {
   "codemirror_mode": {
    "name": "ipython",
    "version": 2
   },
   "file_extension": ".py",
   "mimetype": "text/x-python",
   "name": "python",
   "nbconvert_exporter": "python",
   "pygments_lexer": "ipython2",
   "version": "2.7.10"
  }
 },
 "nbformat": 4,
 "nbformat_minor": 1
}
